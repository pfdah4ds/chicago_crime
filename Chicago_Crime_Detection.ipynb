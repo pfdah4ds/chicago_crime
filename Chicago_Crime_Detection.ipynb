{
  "nbformat": 4,
  "nbformat_minor": 0,
  "metadata": {
    "colab": {
      "name": "Chicago_Crime_Detection.ipynb",
      "provenance": [],
      "collapsed_sections": []
    },
    "kernelspec": {
      "name": "python3",
      "display_name": "Python 3"
    }
  },
  "cells": [
    {
      "cell_type": "markdown",
      "metadata": {
        "id": "rb0oSzAdUkNg"
      },
      "source": [
        "**Helpful Material:**\n",
        "\n",
        "1) https://www.shanelynn.ie/summarising-aggregation-and-grouping-data-in-python-pandas/\n",
        "\n",
        "2) Helpful function: df.value_counts()\n",
        "\n",
        "**Learning objective**\n",
        "*  EDA\n",
        "*  Getting familiar with datetime operations\n"
      ]
    },
    {
      "cell_type": "code",
      "metadata": {
        "id": "J6GZan3pW0nK"
      },
      "source": [
        "# Loading Libraries\n",
        "import numpy as np\n",
        "import pandas as pd\n",
        "\n",
        "\n",
        "# ignoring warnings\n",
        "import warnings\n",
        "warnings.filterwarnings(\"ignore\")"
      ],
      "execution_count": 2,
      "outputs": []
    },
    {
      "cell_type": "code",
      "metadata": {
        "id": "WMCiv1GOXFh-"
      },
      "source": [
        "#load data\n",
        "chicago_data = pd.read_csv(\"https://raw.githubusercontent.com/dphi-official/Datasets/master/Chicago_Crime_Detective.csv\")"
      ],
      "execution_count": 3,
      "outputs": []
    },
    {
      "cell_type": "markdown",
      "metadata": {
        "id": "Znsv8OkMkM8h"
      },
      "source": [
        "Use the raw data github link above.\n",
        "\n",
        "Data Columns details:\n",
        "1. ID: a unique identifier for each observation.\n",
        "\n",
        "2. Date: the date the crime occurred.\n",
        "LocationDescription: the location where the crime occurred.\n",
        "\n",
        "3. Arrest: whether or not an arrest was made for the crime (TRUE if an arrest was made, and FALSE if an arrest was not made).\n",
        "\n",
        "4. Domestic: whether or not the crime was a domestic crime, meaning that it was committed against a family member (TRUE if it was domestic, and FALSE if it was not domestic).\n",
        "\n",
        "5. Beat: the area, or \"beat\" in which the crime occurred. This is the smallest regional division defined by the Chicago police department.\n",
        "\n",
        "6. District: the police district in which the crime occured. Each district is composed of many beats, and are defined by the Chicago Police Department.\n",
        "\n",
        "7. CommunityArea: the community area in which the crime occurred. Since the 1920s, Chicago has been divided into what are called \"community areas\", of which there are now 77. The community areas were devised in an attempt to create socially homogeneous regions.\n",
        "\n",
        "8. Year: the year in which the crime occurred.\n",
        "Latitude: the latitude of the location at which the crime occurred."
      ]
    },
    {
      "cell_type": "markdown",
      "metadata": {
        "id": "p_5NyRrGWBn1"
      },
      "source": [
        "**Question 1:** What is the Month and Year of the median date in our dataset? *\n",
        "\n",
        "Enter your answer as \"Month Year\", without the quotes.\n",
        "1. January 2006\n",
        "2. March 2006\n",
        "3. May 2006  \n",
        "4. June 2006\n",
        "\n",
        "Ans: May 2006"
      ]
    },
    {
      "cell_type": "code",
      "metadata": {
        "id": "mg6nimHbpX8s",
        "colab": {
          "base_uri": "https://localhost:8080/"
        },
        "outputId": "b48e10f2-03dd-49c8-96d1-4c78586413fb"
      },
      "source": [
        "# Write your code here\r\n",
        "chicago_data[\"Date\"] = pd.to_datetime(chicago_data[\"Date\"])\r\n",
        "chicago_data[\"month\"] = chicago_data[\"Date\"].dt.month\r\n",
        "mdate = (chicago_data.Date[len(chicago_data['Date'])//2])\r\n",
        "months = ['','January','February','March','April','May','June','July','August','September','October','November','December']#to adjust index value for later\r\n",
        "mmonth = mdate.month\r\n",
        "myear = mdate.year\r\n",
        "print(months[mmonth],' ',myear) "
      ],
      "execution_count": 4,
      "outputs": [
        {
          "output_type": "stream",
          "text": [
            "May   2006\n"
          ],
          "name": "stdout"
        }
      ]
    },
    {
      "cell_type": "markdown",
      "metadata": {
        "id": "EC6CMddoW3dL"
      },
      "source": [
        "**Question 2:** In which month did the lowest motor vehicle thefts occur? *\n",
        "\n",
        "1. January\n",
        "2. February \n",
        "3. March\n",
        "4. April\n",
        "\n",
        "Ans: February"
      ]
    },
    {
      "cell_type": "code",
      "metadata": {
        "id": "G_JeIuuSrUGU",
        "colab": {
          "base_uri": "https://localhost:8080/"
        },
        "outputId": "84603991-e21e-41f7-ecfa-a4d5bff43224"
      },
      "source": [
        "# Write your code here\r\n",
        "lsmonth = chicago_data.month.value_counts()\r\n",
        "print(months[lsmonth.index[-1]])"
      ],
      "execution_count": 5,
      "outputs": [
        {
          "output_type": "stream",
          "text": [
            "February\n"
          ],
          "name": "stdout"
        }
      ]
    },
    {
      "cell_type": "markdown",
      "metadata": {
        "id": "Ox9wmNfBXBNc"
      },
      "source": [
        "**Question 3:** In which month did the highest motor vehicle thefts occur? *\n",
        "\n",
        "1. September\n",
        "2. October\n",
        "3. November\n",
        "4. December\n",
        "\n",
        "Ans: October\n"
      ]
    },
    {
      "cell_type": "code",
      "metadata": {
        "id": "nOYDbZsysXiC",
        "colab": {
          "base_uri": "https://localhost:8080/"
        },
        "outputId": "0468bab0-7d56-4f97-bf21-25fac5c8de70"
      },
      "source": [
        "# Write your code here\r\n",
        "print(months[lsmonth.index[0]])"
      ],
      "execution_count": 6,
      "outputs": [
        {
          "output_type": "stream",
          "text": [
            "October\n"
          ],
          "name": "stdout"
        }
      ]
    },
    {
      "cell_type": "markdown",
      "metadata": {
        "id": "Ixxg-0nIXtrS"
      },
      "source": [
        "**Question 4:** On which day of the week did most motor vehicle thefts occur? \n",
        "1. Monday\n",
        "2. Wednesday\n",
        "3. Friday \n",
        "4. Sunday\n",
        "\n",
        "Ans: Friday"
      ]
    },
    {
      "cell_type": "code",
      "metadata": {
        "id": "IM4tHdkosppl",
        "colab": {
          "base_uri": "https://localhost:8080/"
        },
        "outputId": "8dae905e-5b9c-44e1-b403-4ad50dda1c41"
      },
      "source": [
        "# Write your code here\r\n",
        "chicago_data[\"day\"] = (chicago_data.Date.dt.dayofweek)\r\n",
        "import calendar\r\n",
        "days = list(calendar.day_name)\r\n",
        "lsday = chicago_data.day.value_counts()\r\n",
        "print(lsday)\r\n",
        "mostday = lsday.index[0]\r\n",
        "print(days[mostday])"
      ],
      "execution_count": 40,
      "outputs": [
        {
          "output_type": "stream",
          "text": [
            "4    29284\n",
            "2    27416\n",
            "0    27397\n",
            "3    27319\n",
            "5    27118\n",
            "1    26791\n",
            "6    26316\n",
            "Name: day, dtype: int64\n",
            "Friday\n"
          ],
          "name": "stdout"
        }
      ]
    },
    {
      "cell_type": "markdown",
      "metadata": {
        "id": "2nrxCxjJX44G"
      },
      "source": [
        "**Question 5:** Each observation in the dataset represents a motor vehicle theft, and the Arrest variable indicates whether an arrest was later made for this theft. Which month has the largest number of motor vehicle thefts for which an arrest was made? \n",
        "\n",
        "1. January  \n",
        "2. February\n",
        "3. March\n",
        "4. April\n",
        "\n",
        "Ans: Janaury\n"
      ]
    },
    {
      "cell_type": "code",
      "metadata": {
        "id": "dWKlJDNZtgqp",
        "colab": {
          "base_uri": "https://localhost:8080/"
        },
        "outputId": "abff1e29-8ace-4fb9-f06f-4a3976e241fe"
      },
      "source": [
        "# Write your code here\r\n",
        "arrested = chicago_data[chicago_data.Arrest == True]\r\n",
        "amonth = arrested.month.value_counts()\r\n",
        "print(months[amonth.index[0]])"
      ],
      "execution_count": 27,
      "outputs": [
        {
          "output_type": "stream",
          "text": [
            "January\n"
          ],
          "name": "stdout"
        }
      ]
    },
    {
      "cell_type": "markdown",
      "metadata": {
        "id": "fERgD9_xYHvX"
      },
      "source": [
        "**Question 6:** Select the incorrect statement \n",
        "1. It look like crime decreases from 2002 - 2012\n",
        "2. It look like crime increases from 2005 - 2008\n",
        "3. It look like crime increases from 2009 - 2011\n",
        "\n",
        "Point number 2 because graph says so"
      ]
    },
    {
      "cell_type": "code",
      "metadata": {
        "id": "96Tvz-3AzD6b",
        "colab": {
          "base_uri": "https://localhost:8080/",
          "height": 282
        },
        "outputId": "063261a1-22a2-41c3-ae2e-8eefdc975233"
      },
      "source": [
        "# Write your code here\r\n",
        "chicago_data['Year'].value_counts().plot()"
      ],
      "execution_count": 45,
      "outputs": [
        {
          "output_type": "execute_result",
          "data": {
            "text/plain": [
              "<matplotlib.axes._subplots.AxesSubplot at 0x7f3fd419a650>"
            ]
          },
          "metadata": {
            "tags": []
          },
          "execution_count": 45
        },
        {
          "output_type": "display_data",
          "data": {
            "image/png": "[encoded data removed]",
            "text/plain": [
              "<Figure size 432x288 with 1 Axes>"
            ]
          },
          "metadata": {
            "tags": [],
            "needs_background": "light"
          }
        }
      ]
    },
    {
      "cell_type": "markdown",
      "metadata": {
        "id": "9b_gZET8YZOV"
      },
      "source": [
        "**Question 7:** Crimes for which more arrests were made are in the first half of the time period or the second half of the time period? *\n",
        "(Note that the time period is from 2001 to 2012, so the middle of the time period is the beginning of 2007.)\n",
        "\n",
        "1. First half\n",
        "2. Second half\n",
        "\n",
        "Ans: First Half\n"
      ]
    },
    {
      "cell_type": "code",
      "metadata": {
        "id": "6mtbRkXLzJAY",
        "colab": {
          "base_uri": "https://localhost:8080/"
        },
        "outputId": "a5d1c5fe-7f49-47a7-a319-d45b3bdb1e5f"
      },
      "source": [
        "# Write your code here\r\n",
        "fhalf = chicago_data[chicago_data['Year'] < 2007]\r\n",
        "shalf = chicago_data[chicago_data['Year'] >= 2007]\r\n",
        "strs = 'First Half' if len(fhalf) > len(shalf) else 'Second Half'\r\n",
        "print(strs)"
      ],
      "execution_count": 26,
      "outputs": [
        {
          "output_type": "stream",
          "text": [
            "First Half\n"
          ],
          "name": "stdout"
        }
      ]
    },
    {
      "cell_type": "markdown",
      "metadata": {
        "id": "Hm9vag5kYqGX"
      },
      "source": [
        "**Question 8:** For what proportion of motor vehicle thefts in 2001 was an arrest made? *\n",
        "**Note:** In this question, we are asking for an answer as a proportion. Therefore, your answer should take a value between 0 and 1\n",
        "\n",
        "1. 0.06\n",
        "2. 0.08\n",
        "3. 0.10\n",
        "4. 0.12\n",
        "\n",
        "Ans: 0.10\n"
      ]
    },
    {
      "cell_type": "code",
      "metadata": {
        "id": "VpP5Pw9MzYh5"
      },
      "source": [
        "# Write your code here\r\n",
        "a2001 = chicago_data[(chicago_data['Year'] == 2001) & (chicago_data['Arrest'] == True)]\r\n",
        "na2001 = chicago_data[(chicago_data['Year'] == 2001)]\r\n",
        "print(\"Proportion of the given condition is : \", round(len(a2001)/len(na2001),2))"
      ],
      "execution_count": null,
      "outputs": []
    },
    {
      "cell_type": "markdown",
      "metadata": {
        "id": "ZYPM-qxkZfM1"
      },
      "source": [
        "**Question 9:** Create a subset of your data, only taking observations for which the theft happened in one of the top five locations for motor vehicle thefts, excluding the \"Other\" category. Call this new data set \"Top5\". How many observations are in Top5?\n",
        "\n",
        "1. 177510 \n",
        "2. 177515\n",
        "3. 177520\n",
        "4. 177525\n",
        "\n",
        "Ans: 177510\n"
      ]
    },
    {
      "cell_type": "code",
      "metadata": {
        "id": "UsXUb3MGzc91",
        "colab": {
          "base_uri": "https://localhost:8080/"
        },
        "outputId": "40d4b803-8c78-4403-e36f-24d793a8be1b"
      },
      "source": [
        "# Write your code here\r\n",
        "ls = chicago_data['LocationDescription'].value_counts()\r\n",
        "top5loc = list(ls.index[0:6])\r\n",
        "top5loc.remove('OTHER')\r\n",
        "intopfive = chicago_data[(chicago_data['LocationDescription'].isin(top5loc))]\r\n",
        "print(len(intopfive))"
      ],
      "execution_count": 24,
      "outputs": [
        {
          "output_type": "stream",
          "text": [
            "177510\n"
          ],
          "name": "stdout"
        }
      ]
    },
    {
      "cell_type": "markdown",
      "metadata": {
        "id": "06wNQi51Z6xS"
      },
      "source": [
        "**Question 10:** On which day of the week do the most motor vehicle thefts at gas stations happen? *\n",
        "\n",
        "1. Tuesday\n",
        "2. Thursday\n",
        "3. Saturday\n",
        "4. Sunday\n",
        "\n",
        "Ans: Saturday"
      ]
    },
    {
      "cell_type": "code",
      "metadata": {
        "id": "jMBvbZ3ebxnP",
        "colab": {
          "base_uri": "https://localhost:8080/"
        },
        "outputId": "9d7719b8-cc35-431d-de8a-63333bbdfd63"
      },
      "source": [
        "# Write your code here\r\n",
        "crimeatgas = chicago_data[chicago_data['LocationDescription'] == 'GAS STATION']\r\n",
        "print(days[crimeatgas.day.value_counts().index[0]])"
      ],
      "execution_count": 35,
      "outputs": [
        {
          "output_type": "stream",
          "text": [
            "Saturday\n"
          ],
          "name": "stdout"
        }
      ]
    }
  ]
}